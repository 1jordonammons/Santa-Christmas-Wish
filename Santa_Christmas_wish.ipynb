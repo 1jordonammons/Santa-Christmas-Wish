{
  "nbformat": 4,
  "nbformat_minor": 0,
  "metadata": {
    "colab": {
      "provenance": []
    },
    "kernelspec": {
      "name": "python3",
      "display_name": "Python 3"
    },
    "language_info": {
      "name": "python"
    }
  },
  "cells": [
    {
      "cell_type": "code",
      "execution_count": null,
      "metadata": {
        "id": "gide2juYJGpN"
      },
      "outputs": [],
      "source": [
        "import random\n",
        "\n",
        "Clist = []\n",
        "\n",
        "count = 0\n",
        "\n",
        "wish = input(\"What do you want for Christmas? If nothing, type 'none': \").lower()\n",
        "\n",
        "while wish != \"none\" and count < 5:\n",
        "\n",
        "    Clist.append(wish)\n",
        "\n",
        "    wish = input(\"What do you want for Christmas? If nothing, type 'none': \").lower()\n",
        "\n",
        "    count += 1\n",
        "\n",
        "if count == 5:\n",
        "\n",
        "    print(\"Woah, you're asking for way too much.\")\n",
        "\n",
        "grade = int(input(\"What is your grade? \"))\n",
        "\n",
        "attitude = input(\"Have you been naughty or nice? \")\n",
        "\n",
        "if grade > 70 and attitude == \"nice\" and Clist:\n",
        "\n",
        "    print(f\"You can have {random.choice(Clist)} and many more.\")\n",
        "\n",
        "else:\n",
        "\n",
        "    print(\"Ehh, you're going to have to try again next year.\")\n"
      ]
    }
  ]
}